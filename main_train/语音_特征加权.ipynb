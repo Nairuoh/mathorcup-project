{
 "cells": [
  {
   "cell_type": "code",
   "execution_count": 2,
   "metadata": {
    "collapsed": true
   },
   "outputs": [],
   "source": [
    "import missingno as msno\n",
    "from time import time\n",
    "import matplotlib.pyplot as plt\n",
    "import numpy as np\n",
    "import pandas as pd\n",
    "import seaborn as sns\n",
    "import warnings\n",
    "warnings.filterwarnings(\"ignore\")\n",
    "%matplotlib inline\n",
    "plt.rcParams['font.sans-serif']=['SimHei']"
   ]
  },
  {
   "cell_type": "code",
   "execution_count": 3,
   "outputs": [],
   "source": [
    "factor = '网络覆盖与信号强度'"
   ],
   "metadata": {
    "collapsed": false
   }
  },
  {
   "cell_type": "code",
   "execution_count": 4,
   "outputs": [],
   "source": [
    "train = pd.read_excel('output/语音'+ factor +'.xls', index_col=0)"
   ],
   "metadata": {
    "collapsed": false
   }
  },
  {
   "cell_type": "code",
   "execution_count": 5,
   "outputs": [
    {
     "data": {
      "text/plain": "      网络覆盖与信号强度  是否遇到过网络问题  居民小区  办公室  商业街  地铁  手机没有信号  有信号无法拨通  通话过程中突然中断  \\\n用户id                                                                         \n26            1          1     0    1    0   1       1        1          0   \n83            1          1     1    1    1   1       1        1          1   \n89            1          1     1    1    1   1       0        0          1   \n99            1          1     1    1    0   0       1        1          0   \n102           1          1     1    0    0   0       1        0          1   \n...         ...        ...   ...  ...  ...  ..     ...      ...        ...   \n2778         10          1     1    0    0   0       0        0          0   \n2793         10          1     1    0    0   1       0        0          0   \n3214         10          1     1    1    1   1       1        1          0   \n4701         10          0     0    0    0   0       0        0          0   \n4822         10          0     0    0    0   0       0        0          0   \n\n      通话中有杂音、听不清、断断续续  通话过程中一方听不见  终端品牌_苹果  \n用户id                                        \n26                  1           1        1  \n83                  1           1        1  \n89                  0           1        0  \n99                  1           0        1  \n102                 1           1        1  \n...               ...         ...      ...  \n2778                0           1        0  \n2793                1           0        0  \n3214                1           1        0  \n4701                0           0        0  \n4822                0           0        1  \n\n[5433 rows x 12 columns]",
      "text/html": "<div>\n<style scoped>\n    .dataframe tbody tr th:only-of-type {\n        vertical-align: middle;\n    }\n\n    .dataframe tbody tr th {\n        vertical-align: top;\n    }\n\n    .dataframe thead th {\n        text-align: right;\n    }\n</style>\n<table border=\"1\" class=\"dataframe\">\n  <thead>\n    <tr style=\"text-align: right;\">\n      <th></th>\n      <th>网络覆盖与信号强度</th>\n      <th>是否遇到过网络问题</th>\n      <th>居民小区</th>\n      <th>办公室</th>\n      <th>商业街</th>\n      <th>地铁</th>\n      <th>手机没有信号</th>\n      <th>有信号无法拨通</th>\n      <th>通话过程中突然中断</th>\n      <th>通话中有杂音、听不清、断断续续</th>\n      <th>通话过程中一方听不见</th>\n      <th>终端品牌_苹果</th>\n    </tr>\n    <tr>\n      <th>用户id</th>\n      <th></th>\n      <th></th>\n      <th></th>\n      <th></th>\n      <th></th>\n      <th></th>\n      <th></th>\n      <th></th>\n      <th></th>\n      <th></th>\n      <th></th>\n      <th></th>\n    </tr>\n  </thead>\n  <tbody>\n    <tr>\n      <th>26</th>\n      <td>1</td>\n      <td>1</td>\n      <td>0</td>\n      <td>1</td>\n      <td>0</td>\n      <td>1</td>\n      <td>1</td>\n      <td>1</td>\n      <td>0</td>\n      <td>1</td>\n      <td>1</td>\n      <td>1</td>\n    </tr>\n    <tr>\n      <th>83</th>\n      <td>1</td>\n      <td>1</td>\n      <td>1</td>\n      <td>1</td>\n      <td>1</td>\n      <td>1</td>\n      <td>1</td>\n      <td>1</td>\n      <td>1</td>\n      <td>1</td>\n      <td>1</td>\n      <td>1</td>\n    </tr>\n    <tr>\n      <th>89</th>\n      <td>1</td>\n      <td>1</td>\n      <td>1</td>\n      <td>1</td>\n      <td>1</td>\n      <td>1</td>\n      <td>0</td>\n      <td>0</td>\n      <td>1</td>\n      <td>0</td>\n      <td>1</td>\n      <td>0</td>\n    </tr>\n    <tr>\n      <th>99</th>\n      <td>1</td>\n      <td>1</td>\n      <td>1</td>\n      <td>1</td>\n      <td>0</td>\n      <td>0</td>\n      <td>1</td>\n      <td>1</td>\n      <td>0</td>\n      <td>1</td>\n      <td>0</td>\n      <td>1</td>\n    </tr>\n    <tr>\n      <th>102</th>\n      <td>1</td>\n      <td>1</td>\n      <td>1</td>\n      <td>0</td>\n      <td>0</td>\n      <td>0</td>\n      <td>1</td>\n      <td>0</td>\n      <td>1</td>\n      <td>1</td>\n      <td>1</td>\n      <td>1</td>\n    </tr>\n    <tr>\n      <th>...</th>\n      <td>...</td>\n      <td>...</td>\n      <td>...</td>\n      <td>...</td>\n      <td>...</td>\n      <td>...</td>\n      <td>...</td>\n      <td>...</td>\n      <td>...</td>\n      <td>...</td>\n      <td>...</td>\n      <td>...</td>\n    </tr>\n    <tr>\n      <th>2778</th>\n      <td>10</td>\n      <td>1</td>\n      <td>1</td>\n      <td>0</td>\n      <td>0</td>\n      <td>0</td>\n      <td>0</td>\n      <td>0</td>\n      <td>0</td>\n      <td>0</td>\n      <td>1</td>\n      <td>0</td>\n    </tr>\n    <tr>\n      <th>2793</th>\n      <td>10</td>\n      <td>1</td>\n      <td>1</td>\n      <td>0</td>\n      <td>0</td>\n      <td>1</td>\n      <td>0</td>\n      <td>0</td>\n      <td>0</td>\n      <td>1</td>\n      <td>0</td>\n      <td>0</td>\n    </tr>\n    <tr>\n      <th>3214</th>\n      <td>10</td>\n      <td>1</td>\n      <td>1</td>\n      <td>1</td>\n      <td>1</td>\n      <td>1</td>\n      <td>1</td>\n      <td>1</td>\n      <td>0</td>\n      <td>1</td>\n      <td>1</td>\n      <td>0</td>\n    </tr>\n    <tr>\n      <th>4701</th>\n      <td>10</td>\n      <td>0</td>\n      <td>0</td>\n      <td>0</td>\n      <td>0</td>\n      <td>0</td>\n      <td>0</td>\n      <td>0</td>\n      <td>0</td>\n      <td>0</td>\n      <td>0</td>\n      <td>0</td>\n    </tr>\n    <tr>\n      <th>4822</th>\n      <td>10</td>\n      <td>0</td>\n      <td>0</td>\n      <td>0</td>\n      <td>0</td>\n      <td>0</td>\n      <td>0</td>\n      <td>0</td>\n      <td>0</td>\n      <td>0</td>\n      <td>0</td>\n      <td>1</td>\n    </tr>\n  </tbody>\n</table>\n<p>5433 rows × 12 columns</p>\n</div>"
     },
     "execution_count": 5,
     "metadata": {},
     "output_type": "execute_result"
    }
   ],
   "source": [
    "train_data = pd.DataFrame.copy(train, deep=True)\n",
    "train_data"
   ],
   "metadata": {
    "collapsed": false
   }
  },
  {
   "cell_type": "code",
   "execution_count": 6,
   "outputs": [
    {
     "data": {
      "text/plain": "                 网络覆盖与信号强度\n网络覆盖与信号强度         1.000000\n是否遇到过网络问题         0.462573\n居民小区              0.428329\n手机没有信号            0.425089\n有信号无法拨通           0.378155\n通话过程中突然中断         0.371422\n办公室               0.359985\n通话过程中一方听不见        0.359321\n通话中有杂音、听不清、断断续续   0.344696\n商业街               0.243816\n地铁                0.236373\n终端品牌_苹果           0.214223",
      "text/html": "<div>\n<style scoped>\n    .dataframe tbody tr th:only-of-type {\n        vertical-align: middle;\n    }\n\n    .dataframe tbody tr th {\n        vertical-align: top;\n    }\n\n    .dataframe thead th {\n        text-align: right;\n    }\n</style>\n<table border=\"1\" class=\"dataframe\">\n  <thead>\n    <tr style=\"text-align: right;\">\n      <th></th>\n      <th>网络覆盖与信号强度</th>\n    </tr>\n  </thead>\n  <tbody>\n    <tr>\n      <th>网络覆盖与信号强度</th>\n      <td>1.000000</td>\n    </tr>\n    <tr>\n      <th>是否遇到过网络问题</th>\n      <td>0.462573</td>\n    </tr>\n    <tr>\n      <th>居民小区</th>\n      <td>0.428329</td>\n    </tr>\n    <tr>\n      <th>手机没有信号</th>\n      <td>0.425089</td>\n    </tr>\n    <tr>\n      <th>有信号无法拨通</th>\n      <td>0.378155</td>\n    </tr>\n    <tr>\n      <th>通话过程中突然中断</th>\n      <td>0.371422</td>\n    </tr>\n    <tr>\n      <th>办公室</th>\n      <td>0.359985</td>\n    </tr>\n    <tr>\n      <th>通话过程中一方听不见</th>\n      <td>0.359321</td>\n    </tr>\n    <tr>\n      <th>通话中有杂音、听不清、断断续续</th>\n      <td>0.344696</td>\n    </tr>\n    <tr>\n      <th>商业街</th>\n      <td>0.243816</td>\n    </tr>\n    <tr>\n      <th>地铁</th>\n      <td>0.236373</td>\n    </tr>\n    <tr>\n      <th>终端品牌_苹果</th>\n      <td>0.214223</td>\n    </tr>\n  </tbody>\n</table>\n</div>"
     },
     "execution_count": 6,
     "metadata": {},
     "output_type": "execute_result"
    }
   ],
   "source": [
    "cor = pd.DataFrame(train_data.corr().abs()[factor].sort_values(ascending = False))\n",
    "# cor = pd.DataFrame(train_data.corr().abs().sort_values(ascending = False))\n",
    "cor.columns = [factor]\n",
    "cor"
   ],
   "metadata": {
    "collapsed": false
   }
  },
  {
   "cell_type": "code",
   "execution_count": 7,
   "outputs": [
    {
     "data": {
      "text/plain": "                 网络覆盖与信号强度\n是否遇到过网络问题         0.462573\n居民小区              0.428329\n手机没有信号            0.425089\n有信号无法拨通           0.378155\n通话过程中突然中断         0.371422\n办公室               0.359985\n通话过程中一方听不见        0.359321\n通话中有杂音、听不清、断断续续   0.344696\n商业街               0.243816\n地铁                0.236373\n终端品牌_苹果           0.214223",
      "text/html": "<div>\n<style scoped>\n    .dataframe tbody tr th:only-of-type {\n        vertical-align: middle;\n    }\n\n    .dataframe tbody tr th {\n        vertical-align: top;\n    }\n\n    .dataframe thead th {\n        text-align: right;\n    }\n</style>\n<table border=\"1\" class=\"dataframe\">\n  <thead>\n    <tr style=\"text-align: right;\">\n      <th></th>\n      <th>网络覆盖与信号强度</th>\n    </tr>\n  </thead>\n  <tbody>\n    <tr>\n      <th>是否遇到过网络问题</th>\n      <td>0.462573</td>\n    </tr>\n    <tr>\n      <th>居民小区</th>\n      <td>0.428329</td>\n    </tr>\n    <tr>\n      <th>手机没有信号</th>\n      <td>0.425089</td>\n    </tr>\n    <tr>\n      <th>有信号无法拨通</th>\n      <td>0.378155</td>\n    </tr>\n    <tr>\n      <th>通话过程中突然中断</th>\n      <td>0.371422</td>\n    </tr>\n    <tr>\n      <th>办公室</th>\n      <td>0.359985</td>\n    </tr>\n    <tr>\n      <th>通话过程中一方听不见</th>\n      <td>0.359321</td>\n    </tr>\n    <tr>\n      <th>通话中有杂音、听不清、断断续续</th>\n      <td>0.344696</td>\n    </tr>\n    <tr>\n      <th>商业街</th>\n      <td>0.243816</td>\n    </tr>\n    <tr>\n      <th>地铁</th>\n      <td>0.236373</td>\n    </tr>\n    <tr>\n      <th>终端品牌_苹果</th>\n      <td>0.214223</td>\n    </tr>\n  </tbody>\n</table>\n</div>"
     },
     "execution_count": 7,
     "metadata": {},
     "output_type": "execute_result"
    }
   ],
   "source": [
    "corr1 = cor[1:]\n",
    "corr1"
   ],
   "metadata": {
    "collapsed": false
   }
  },
  {
   "cell_type": "code",
   "execution_count": 8,
   "outputs": [
    {
     "data": {
      "text/plain": "3.8239809204014907"
     },
     "execution_count": 8,
     "metadata": {},
     "output_type": "execute_result"
    }
   ],
   "source": [
    "sum1 = corr1.apply(sum)[0]\n",
    "sum1"
   ],
   "metadata": {
    "collapsed": false
   }
  },
  {
   "cell_type": "code",
   "execution_count": 9,
   "outputs": [
    {
     "data": {
      "text/plain": "                 网络覆盖与信号强度\n是否遇到过网络问题         0.120966\n居民小区              0.112011\n手机没有信号            0.111164\n有信号无法拨通           0.098890\n通话过程中突然中断         0.097130\n办公室               0.094139\n通话过程中一方听不见        0.093965\n通话中有杂音、听不清、断断续续   0.090141\n商业街               0.063760\n地铁                0.061813\n终端品牌_苹果           0.056021",
      "text/html": "<div>\n<style scoped>\n    .dataframe tbody tr th:only-of-type {\n        vertical-align: middle;\n    }\n\n    .dataframe tbody tr th {\n        vertical-align: top;\n    }\n\n    .dataframe thead th {\n        text-align: right;\n    }\n</style>\n<table border=\"1\" class=\"dataframe\">\n  <thead>\n    <tr style=\"text-align: right;\">\n      <th></th>\n      <th>网络覆盖与信号强度</th>\n    </tr>\n  </thead>\n  <tbody>\n    <tr>\n      <th>是否遇到过网络问题</th>\n      <td>0.120966</td>\n    </tr>\n    <tr>\n      <th>居民小区</th>\n      <td>0.112011</td>\n    </tr>\n    <tr>\n      <th>手机没有信号</th>\n      <td>0.111164</td>\n    </tr>\n    <tr>\n      <th>有信号无法拨通</th>\n      <td>0.098890</td>\n    </tr>\n    <tr>\n      <th>通话过程中突然中断</th>\n      <td>0.097130</td>\n    </tr>\n    <tr>\n      <th>办公室</th>\n      <td>0.094139</td>\n    </tr>\n    <tr>\n      <th>通话过程中一方听不见</th>\n      <td>0.093965</td>\n    </tr>\n    <tr>\n      <th>通话中有杂音、听不清、断断续续</th>\n      <td>0.090141</td>\n    </tr>\n    <tr>\n      <th>商业街</th>\n      <td>0.063760</td>\n    </tr>\n    <tr>\n      <th>地铁</th>\n      <td>0.061813</td>\n    </tr>\n    <tr>\n      <th>终端品牌_苹果</th>\n      <td>0.056021</td>\n    </tr>\n  </tbody>\n</table>\n</div>"
     },
     "execution_count": 9,
     "metadata": {},
     "output_type": "execute_result"
    }
   ],
   "source": [
    "corr1 = corr1.apply(lambda a:a/sum1)\n",
    "corr1"
   ],
   "metadata": {
    "collapsed": false
   }
  },
  {
   "cell_type": "code",
   "execution_count": 10,
   "outputs": [
    {
     "data": {
      "text/plain": "0.12096641454583205"
     },
     "execution_count": 10,
     "metadata": {},
     "output_type": "execute_result"
    }
   ],
   "source": [
    "corr1[factor]['是否遇到过网络问题']"
   ],
   "metadata": {
    "collapsed": false
   }
  },
  {
   "cell_type": "code",
   "execution_count": 11,
   "outputs": [],
   "source": [
    "corr1.to_excel('output/corr/语音'+factor+'.xlsx')"
   ],
   "metadata": {
    "collapsed": false
   }
  },
  {
   "cell_type": "code",
   "execution_count": 12,
   "outputs": [
    {
     "data": {
      "text/plain": "      网络覆盖与信号强度  是否遇到过网络问题  居民小区  办公室  商业街  地铁  手机没有信号  有信号无法拨通  通话过程中突然中断  \\\n用户id                                                                         \n26            1          1     0    1    0   1       1        1          0   \n83            1          1     1    1    1   1       1        1          1   \n89            1          1     1    1    1   1       0        0          1   \n99            1          1     1    1    0   0       1        1          0   \n102           1          1     1    0    0   0       1        0          1   \n...         ...        ...   ...  ...  ...  ..     ...      ...        ...   \n2778         10          1     1    0    0   0       0        0          0   \n2793         10          1     1    0    0   1       0        0          0   \n3214         10          1     1    1    1   1       1        1          0   \n4701         10          0     0    0    0   0       0        0          0   \n4822         10          0     0    0    0   0       0        0          0   \n\n      通话中有杂音、听不清、断断续续  通话过程中一方听不见  终端品牌_苹果  \n用户id                                        \n26                  1           1        1  \n83                  1           1        1  \n89                  0           1        0  \n99                  1           0        1  \n102                 1           1        1  \n...               ...         ...      ...  \n2778                0           1        0  \n2793                1           0        0  \n3214                1           1        0  \n4701                0           0        0  \n4822                0           0        1  \n\n[5433 rows x 12 columns]",
      "text/html": "<div>\n<style scoped>\n    .dataframe tbody tr th:only-of-type {\n        vertical-align: middle;\n    }\n\n    .dataframe tbody tr th {\n        vertical-align: top;\n    }\n\n    .dataframe thead th {\n        text-align: right;\n    }\n</style>\n<table border=\"1\" class=\"dataframe\">\n  <thead>\n    <tr style=\"text-align: right;\">\n      <th></th>\n      <th>网络覆盖与信号强度</th>\n      <th>是否遇到过网络问题</th>\n      <th>居民小区</th>\n      <th>办公室</th>\n      <th>商业街</th>\n      <th>地铁</th>\n      <th>手机没有信号</th>\n      <th>有信号无法拨通</th>\n      <th>通话过程中突然中断</th>\n      <th>通话中有杂音、听不清、断断续续</th>\n      <th>通话过程中一方听不见</th>\n      <th>终端品牌_苹果</th>\n    </tr>\n    <tr>\n      <th>用户id</th>\n      <th></th>\n      <th></th>\n      <th></th>\n      <th></th>\n      <th></th>\n      <th></th>\n      <th></th>\n      <th></th>\n      <th></th>\n      <th></th>\n      <th></th>\n      <th></th>\n    </tr>\n  </thead>\n  <tbody>\n    <tr>\n      <th>26</th>\n      <td>1</td>\n      <td>1</td>\n      <td>0</td>\n      <td>1</td>\n      <td>0</td>\n      <td>1</td>\n      <td>1</td>\n      <td>1</td>\n      <td>0</td>\n      <td>1</td>\n      <td>1</td>\n      <td>1</td>\n    </tr>\n    <tr>\n      <th>83</th>\n      <td>1</td>\n      <td>1</td>\n      <td>1</td>\n      <td>1</td>\n      <td>1</td>\n      <td>1</td>\n      <td>1</td>\n      <td>1</td>\n      <td>1</td>\n      <td>1</td>\n      <td>1</td>\n      <td>1</td>\n    </tr>\n    <tr>\n      <th>89</th>\n      <td>1</td>\n      <td>1</td>\n      <td>1</td>\n      <td>1</td>\n      <td>1</td>\n      <td>1</td>\n      <td>0</td>\n      <td>0</td>\n      <td>1</td>\n      <td>0</td>\n      <td>1</td>\n      <td>0</td>\n    </tr>\n    <tr>\n      <th>99</th>\n      <td>1</td>\n      <td>1</td>\n      <td>1</td>\n      <td>1</td>\n      <td>0</td>\n      <td>0</td>\n      <td>1</td>\n      <td>1</td>\n      <td>0</td>\n      <td>1</td>\n      <td>0</td>\n      <td>1</td>\n    </tr>\n    <tr>\n      <th>102</th>\n      <td>1</td>\n      <td>1</td>\n      <td>1</td>\n      <td>0</td>\n      <td>0</td>\n      <td>0</td>\n      <td>1</td>\n      <td>0</td>\n      <td>1</td>\n      <td>1</td>\n      <td>1</td>\n      <td>1</td>\n    </tr>\n    <tr>\n      <th>...</th>\n      <td>...</td>\n      <td>...</td>\n      <td>...</td>\n      <td>...</td>\n      <td>...</td>\n      <td>...</td>\n      <td>...</td>\n      <td>...</td>\n      <td>...</td>\n      <td>...</td>\n      <td>...</td>\n      <td>...</td>\n    </tr>\n    <tr>\n      <th>2778</th>\n      <td>10</td>\n      <td>1</td>\n      <td>1</td>\n      <td>0</td>\n      <td>0</td>\n      <td>0</td>\n      <td>0</td>\n      <td>0</td>\n      <td>0</td>\n      <td>0</td>\n      <td>1</td>\n      <td>0</td>\n    </tr>\n    <tr>\n      <th>2793</th>\n      <td>10</td>\n      <td>1</td>\n      <td>1</td>\n      <td>0</td>\n      <td>0</td>\n      <td>1</td>\n      <td>0</td>\n      <td>0</td>\n      <td>0</td>\n      <td>1</td>\n      <td>0</td>\n      <td>0</td>\n    </tr>\n    <tr>\n      <th>3214</th>\n      <td>10</td>\n      <td>1</td>\n      <td>1</td>\n      <td>1</td>\n      <td>1</td>\n      <td>1</td>\n      <td>1</td>\n      <td>1</td>\n      <td>0</td>\n      <td>1</td>\n      <td>1</td>\n      <td>0</td>\n    </tr>\n    <tr>\n      <th>4701</th>\n      <td>10</td>\n      <td>0</td>\n      <td>0</td>\n      <td>0</td>\n      <td>0</td>\n      <td>0</td>\n      <td>0</td>\n      <td>0</td>\n      <td>0</td>\n      <td>0</td>\n      <td>0</td>\n      <td>0</td>\n    </tr>\n    <tr>\n      <th>4822</th>\n      <td>10</td>\n      <td>0</td>\n      <td>0</td>\n      <td>0</td>\n      <td>0</td>\n      <td>0</td>\n      <td>0</td>\n      <td>0</td>\n      <td>0</td>\n      <td>0</td>\n      <td>0</td>\n      <td>1</td>\n    </tr>\n  </tbody>\n</table>\n<p>5433 rows × 12 columns</p>\n</div>"
     },
     "execution_count": 12,
     "metadata": {},
     "output_type": "execute_result"
    }
   ],
   "source": [
    "train_data"
   ],
   "metadata": {
    "collapsed": false
   }
  },
  {
   "cell_type": "code",
   "execution_count": 13,
   "outputs": [
    {
     "data": {
      "text/plain": "                 网络覆盖与信号强度\n是否遇到过网络问题         0.120966\n居民小区              0.112011\n手机没有信号            0.111164\n有信号无法拨通           0.098890\n通话过程中突然中断         0.097130\n办公室               0.094139\n通话过程中一方听不见        0.093965\n通话中有杂音、听不清、断断续续   0.090141\n商业街               0.063760\n地铁                0.061813\n终端品牌_苹果           0.056021",
      "text/html": "<div>\n<style scoped>\n    .dataframe tbody tr th:only-of-type {\n        vertical-align: middle;\n    }\n\n    .dataframe tbody tr th {\n        vertical-align: top;\n    }\n\n    .dataframe thead th {\n        text-align: right;\n    }\n</style>\n<table border=\"1\" class=\"dataframe\">\n  <thead>\n    <tr style=\"text-align: right;\">\n      <th></th>\n      <th>网络覆盖与信号强度</th>\n    </tr>\n  </thead>\n  <tbody>\n    <tr>\n      <th>是否遇到过网络问题</th>\n      <td>0.120966</td>\n    </tr>\n    <tr>\n      <th>居民小区</th>\n      <td>0.112011</td>\n    </tr>\n    <tr>\n      <th>手机没有信号</th>\n      <td>0.111164</td>\n    </tr>\n    <tr>\n      <th>有信号无法拨通</th>\n      <td>0.098890</td>\n    </tr>\n    <tr>\n      <th>通话过程中突然中断</th>\n      <td>0.097130</td>\n    </tr>\n    <tr>\n      <th>办公室</th>\n      <td>0.094139</td>\n    </tr>\n    <tr>\n      <th>通话过程中一方听不见</th>\n      <td>0.093965</td>\n    </tr>\n    <tr>\n      <th>通话中有杂音、听不清、断断续续</th>\n      <td>0.090141</td>\n    </tr>\n    <tr>\n      <th>商业街</th>\n      <td>0.063760</td>\n    </tr>\n    <tr>\n      <th>地铁</th>\n      <td>0.061813</td>\n    </tr>\n    <tr>\n      <th>终端品牌_苹果</th>\n      <td>0.056021</td>\n    </tr>\n  </tbody>\n</table>\n</div>"
     },
     "execution_count": 13,
     "metadata": {},
     "output_type": "execute_result"
    }
   ],
   "source": [
    "corr1"
   ],
   "metadata": {
    "collapsed": false
   }
  },
  {
   "cell_type": "code",
   "execution_count": 14,
   "outputs": [
    {
     "data": {
      "text/plain": "['是否遇到过网络问题',\n '居民小区',\n '手机没有信号',\n '有信号无法拨通',\n '通话过程中突然中断',\n '办公室',\n '通话过程中一方听不见',\n '通话中有杂音、听不清、断断续续',\n '商业街',\n '地铁',\n '终端品牌_苹果']"
     },
     "execution_count": 14,
     "metadata": {},
     "output_type": "execute_result"
    }
   ],
   "source": [
    "titles = corr1.index.tolist()\n",
    "titles"
   ],
   "metadata": {
    "collapsed": false
   }
  },
  {
   "cell_type": "code",
   "execution_count": 15,
   "outputs": [
    {
     "data": {
      "text/plain": "      网络覆盖与信号强度  是否遇到过网络问题      居民小区       办公室      商业街        地铁    手机没有信号  \\\n用户id                                                                          \n26            1   0.120966  0.000000  0.094139  0.00000  0.061813  0.111164   \n83            1   0.120966  0.112011  0.094139  0.06376  0.061813  0.111164   \n89            1   0.120966  0.112011  0.094139  0.06376  0.061813  0.000000   \n99            1   0.120966  0.112011  0.094139  0.00000  0.000000  0.111164   \n102           1   0.120966  0.112011  0.000000  0.00000  0.000000  0.111164   \n...         ...        ...       ...       ...      ...       ...       ...   \n2778         10   0.120966  0.112011  0.000000  0.00000  0.000000  0.000000   \n2793         10   0.120966  0.112011  0.000000  0.00000  0.061813  0.000000   \n3214         10   0.120966  0.112011  0.094139  0.06376  0.061813  0.111164   \n4701         10   0.000000  0.000000  0.000000  0.00000  0.000000  0.000000   \n4822         10   0.000000  0.000000  0.000000  0.00000  0.000000  0.000000   \n\n      有信号无法拨通  通话过程中突然中断  通话中有杂音、听不清、断断续续  通话过程中一方听不见   终端品牌_苹果  \n用户id                                                             \n26    0.09889    0.00000         0.090141    0.093965  0.056021  \n83    0.09889    0.09713         0.090141    0.093965  0.056021  \n89    0.00000    0.09713         0.000000    0.093965  0.000000  \n99    0.09889    0.00000         0.090141    0.000000  0.056021  \n102   0.00000    0.09713         0.090141    0.093965  0.056021  \n...       ...        ...              ...         ...       ...  \n2778  0.00000    0.00000         0.000000    0.093965  0.000000  \n2793  0.00000    0.00000         0.090141    0.000000  0.000000  \n3214  0.09889    0.00000         0.090141    0.093965  0.000000  \n4701  0.00000    0.00000         0.000000    0.000000  0.000000  \n4822  0.00000    0.00000         0.000000    0.000000  0.056021  \n\n[5433 rows x 12 columns]",
      "text/html": "<div>\n<style scoped>\n    .dataframe tbody tr th:only-of-type {\n        vertical-align: middle;\n    }\n\n    .dataframe tbody tr th {\n        vertical-align: top;\n    }\n\n    .dataframe thead th {\n        text-align: right;\n    }\n</style>\n<table border=\"1\" class=\"dataframe\">\n  <thead>\n    <tr style=\"text-align: right;\">\n      <th></th>\n      <th>网络覆盖与信号强度</th>\n      <th>是否遇到过网络问题</th>\n      <th>居民小区</th>\n      <th>办公室</th>\n      <th>商业街</th>\n      <th>地铁</th>\n      <th>手机没有信号</th>\n      <th>有信号无法拨通</th>\n      <th>通话过程中突然中断</th>\n      <th>通话中有杂音、听不清、断断续续</th>\n      <th>通话过程中一方听不见</th>\n      <th>终端品牌_苹果</th>\n    </tr>\n    <tr>\n      <th>用户id</th>\n      <th></th>\n      <th></th>\n      <th></th>\n      <th></th>\n      <th></th>\n      <th></th>\n      <th></th>\n      <th></th>\n      <th></th>\n      <th></th>\n      <th></th>\n      <th></th>\n    </tr>\n  </thead>\n  <tbody>\n    <tr>\n      <th>26</th>\n      <td>1</td>\n      <td>0.120966</td>\n      <td>0.000000</td>\n      <td>0.094139</td>\n      <td>0.00000</td>\n      <td>0.061813</td>\n      <td>0.111164</td>\n      <td>0.09889</td>\n      <td>0.00000</td>\n      <td>0.090141</td>\n      <td>0.093965</td>\n      <td>0.056021</td>\n    </tr>\n    <tr>\n      <th>83</th>\n      <td>1</td>\n      <td>0.120966</td>\n      <td>0.112011</td>\n      <td>0.094139</td>\n      <td>0.06376</td>\n      <td>0.061813</td>\n      <td>0.111164</td>\n      <td>0.09889</td>\n      <td>0.09713</td>\n      <td>0.090141</td>\n      <td>0.093965</td>\n      <td>0.056021</td>\n    </tr>\n    <tr>\n      <th>89</th>\n      <td>1</td>\n      <td>0.120966</td>\n      <td>0.112011</td>\n      <td>0.094139</td>\n      <td>0.06376</td>\n      <td>0.061813</td>\n      <td>0.000000</td>\n      <td>0.00000</td>\n      <td>0.09713</td>\n      <td>0.000000</td>\n      <td>0.093965</td>\n      <td>0.000000</td>\n    </tr>\n    <tr>\n      <th>99</th>\n      <td>1</td>\n      <td>0.120966</td>\n      <td>0.112011</td>\n      <td>0.094139</td>\n      <td>0.00000</td>\n      <td>0.000000</td>\n      <td>0.111164</td>\n      <td>0.09889</td>\n      <td>0.00000</td>\n      <td>0.090141</td>\n      <td>0.000000</td>\n      <td>0.056021</td>\n    </tr>\n    <tr>\n      <th>102</th>\n      <td>1</td>\n      <td>0.120966</td>\n      <td>0.112011</td>\n      <td>0.000000</td>\n      <td>0.00000</td>\n      <td>0.000000</td>\n      <td>0.111164</td>\n      <td>0.00000</td>\n      <td>0.09713</td>\n      <td>0.090141</td>\n      <td>0.093965</td>\n      <td>0.056021</td>\n    </tr>\n    <tr>\n      <th>...</th>\n      <td>...</td>\n      <td>...</td>\n      <td>...</td>\n      <td>...</td>\n      <td>...</td>\n      <td>...</td>\n      <td>...</td>\n      <td>...</td>\n      <td>...</td>\n      <td>...</td>\n      <td>...</td>\n      <td>...</td>\n    </tr>\n    <tr>\n      <th>2778</th>\n      <td>10</td>\n      <td>0.120966</td>\n      <td>0.112011</td>\n      <td>0.000000</td>\n      <td>0.00000</td>\n      <td>0.000000</td>\n      <td>0.000000</td>\n      <td>0.00000</td>\n      <td>0.00000</td>\n      <td>0.000000</td>\n      <td>0.093965</td>\n      <td>0.000000</td>\n    </tr>\n    <tr>\n      <th>2793</th>\n      <td>10</td>\n      <td>0.120966</td>\n      <td>0.112011</td>\n      <td>0.000000</td>\n      <td>0.00000</td>\n      <td>0.061813</td>\n      <td>0.000000</td>\n      <td>0.00000</td>\n      <td>0.00000</td>\n      <td>0.090141</td>\n      <td>0.000000</td>\n      <td>0.000000</td>\n    </tr>\n    <tr>\n      <th>3214</th>\n      <td>10</td>\n      <td>0.120966</td>\n      <td>0.112011</td>\n      <td>0.094139</td>\n      <td>0.06376</td>\n      <td>0.061813</td>\n      <td>0.111164</td>\n      <td>0.09889</td>\n      <td>0.00000</td>\n      <td>0.090141</td>\n      <td>0.093965</td>\n      <td>0.000000</td>\n    </tr>\n    <tr>\n      <th>4701</th>\n      <td>10</td>\n      <td>0.000000</td>\n      <td>0.000000</td>\n      <td>0.000000</td>\n      <td>0.00000</td>\n      <td>0.000000</td>\n      <td>0.000000</td>\n      <td>0.00000</td>\n      <td>0.00000</td>\n      <td>0.000000</td>\n      <td>0.000000</td>\n      <td>0.000000</td>\n    </tr>\n    <tr>\n      <th>4822</th>\n      <td>10</td>\n      <td>0.000000</td>\n      <td>0.000000</td>\n      <td>0.000000</td>\n      <td>0.00000</td>\n      <td>0.000000</td>\n      <td>0.000000</td>\n      <td>0.00000</td>\n      <td>0.00000</td>\n      <td>0.000000</td>\n      <td>0.000000</td>\n      <td>0.056021</td>\n    </tr>\n  </tbody>\n</table>\n<p>5433 rows × 12 columns</p>\n</div>"
     },
     "execution_count": 15,
     "metadata": {},
     "output_type": "execute_result"
    }
   ],
   "source": [
    "for title in titles:\n",
    "    train_data[title] = train_data[title].apply(lambda a : a*corr1[factor][title])\n",
    "train_data"
   ],
   "metadata": {
    "collapsed": false
   }
  },
  {
   "cell_type": "code",
   "execution_count": 16,
   "outputs": [
    {
     "data": {
      "text/plain": "      网络覆盖与信号强度  是否遇到过网络问题      居民小区       办公室      商业街        地铁    手机没有信号  \\\n用户id                                                                          \n26            1   0.120966  0.000000  0.094139  0.00000  0.061813  0.111164   \n83            1   0.120966  0.112011  0.094139  0.06376  0.061813  0.111164   \n89            1   0.120966  0.112011  0.094139  0.06376  0.061813  0.000000   \n99            1   0.120966  0.112011  0.094139  0.00000  0.000000  0.111164   \n102           1   0.120966  0.112011  0.000000  0.00000  0.000000  0.111164   \n...         ...        ...       ...       ...      ...       ...       ...   \n2778         10   0.120966  0.112011  0.000000  0.00000  0.000000  0.000000   \n2793         10   0.120966  0.112011  0.000000  0.00000  0.061813  0.000000   \n3214         10   0.120966  0.112011  0.094139  0.06376  0.061813  0.111164   \n4701         10   0.000000  0.000000  0.000000  0.00000  0.000000  0.000000   \n4822         10   0.000000  0.000000  0.000000  0.00000  0.000000  0.000000   \n\n      有信号无法拨通  通话过程中突然中断  通话中有杂音、听不清、断断续续  通话过程中一方听不见   终端品牌_苹果  特征加权和  \n用户id                                                                    \n26    0.09889    0.00000         0.090141    0.093965  0.056021    0.0  \n83    0.09889    0.09713         0.090141    0.093965  0.056021    0.0  \n89    0.00000    0.09713         0.000000    0.093965  0.000000    0.0  \n99    0.09889    0.00000         0.090141    0.000000  0.056021    0.0  \n102   0.00000    0.09713         0.090141    0.093965  0.056021    0.0  \n...       ...        ...              ...         ...       ...    ...  \n2778  0.00000    0.00000         0.000000    0.093965  0.000000    0.0  \n2793  0.00000    0.00000         0.090141    0.000000  0.000000    0.0  \n3214  0.09889    0.00000         0.090141    0.093965  0.000000    0.0  \n4701  0.00000    0.00000         0.000000    0.000000  0.000000    0.0  \n4822  0.00000    0.00000         0.000000    0.000000  0.056021    0.0  \n\n[5433 rows x 13 columns]",
      "text/html": "<div>\n<style scoped>\n    .dataframe tbody tr th:only-of-type {\n        vertical-align: middle;\n    }\n\n    .dataframe tbody tr th {\n        vertical-align: top;\n    }\n\n    .dataframe thead th {\n        text-align: right;\n    }\n</style>\n<table border=\"1\" class=\"dataframe\">\n  <thead>\n    <tr style=\"text-align: right;\">\n      <th></th>\n      <th>网络覆盖与信号强度</th>\n      <th>是否遇到过网络问题</th>\n      <th>居民小区</th>\n      <th>办公室</th>\n      <th>商业街</th>\n      <th>地铁</th>\n      <th>手机没有信号</th>\n      <th>有信号无法拨通</th>\n      <th>通话过程中突然中断</th>\n      <th>通话中有杂音、听不清、断断续续</th>\n      <th>通话过程中一方听不见</th>\n      <th>终端品牌_苹果</th>\n      <th>特征加权和</th>\n    </tr>\n    <tr>\n      <th>用户id</th>\n      <th></th>\n      <th></th>\n      <th></th>\n      <th></th>\n      <th></th>\n      <th></th>\n      <th></th>\n      <th></th>\n      <th></th>\n      <th></th>\n      <th></th>\n      <th></th>\n      <th></th>\n    </tr>\n  </thead>\n  <tbody>\n    <tr>\n      <th>26</th>\n      <td>1</td>\n      <td>0.120966</td>\n      <td>0.000000</td>\n      <td>0.094139</td>\n      <td>0.00000</td>\n      <td>0.061813</td>\n      <td>0.111164</td>\n      <td>0.09889</td>\n      <td>0.00000</td>\n      <td>0.090141</td>\n      <td>0.093965</td>\n      <td>0.056021</td>\n      <td>0.0</td>\n    </tr>\n    <tr>\n      <th>83</th>\n      <td>1</td>\n      <td>0.120966</td>\n      <td>0.112011</td>\n      <td>0.094139</td>\n      <td>0.06376</td>\n      <td>0.061813</td>\n      <td>0.111164</td>\n      <td>0.09889</td>\n      <td>0.09713</td>\n      <td>0.090141</td>\n      <td>0.093965</td>\n      <td>0.056021</td>\n      <td>0.0</td>\n    </tr>\n    <tr>\n      <th>89</th>\n      <td>1</td>\n      <td>0.120966</td>\n      <td>0.112011</td>\n      <td>0.094139</td>\n      <td>0.06376</td>\n      <td>0.061813</td>\n      <td>0.000000</td>\n      <td>0.00000</td>\n      <td>0.09713</td>\n      <td>0.000000</td>\n      <td>0.093965</td>\n      <td>0.000000</td>\n      <td>0.0</td>\n    </tr>\n    <tr>\n      <th>99</th>\n      <td>1</td>\n      <td>0.120966</td>\n      <td>0.112011</td>\n      <td>0.094139</td>\n      <td>0.00000</td>\n      <td>0.000000</td>\n      <td>0.111164</td>\n      <td>0.09889</td>\n      <td>0.00000</td>\n      <td>0.090141</td>\n      <td>0.000000</td>\n      <td>0.056021</td>\n      <td>0.0</td>\n    </tr>\n    <tr>\n      <th>102</th>\n      <td>1</td>\n      <td>0.120966</td>\n      <td>0.112011</td>\n      <td>0.000000</td>\n      <td>0.00000</td>\n      <td>0.000000</td>\n      <td>0.111164</td>\n      <td>0.00000</td>\n      <td>0.09713</td>\n      <td>0.090141</td>\n      <td>0.093965</td>\n      <td>0.056021</td>\n      <td>0.0</td>\n    </tr>\n    <tr>\n      <th>...</th>\n      <td>...</td>\n      <td>...</td>\n      <td>...</td>\n      <td>...</td>\n      <td>...</td>\n      <td>...</td>\n      <td>...</td>\n      <td>...</td>\n      <td>...</td>\n      <td>...</td>\n      <td>...</td>\n      <td>...</td>\n      <td>...</td>\n    </tr>\n    <tr>\n      <th>2778</th>\n      <td>10</td>\n      <td>0.120966</td>\n      <td>0.112011</td>\n      <td>0.000000</td>\n      <td>0.00000</td>\n      <td>0.000000</td>\n      <td>0.000000</td>\n      <td>0.00000</td>\n      <td>0.00000</td>\n      <td>0.000000</td>\n      <td>0.093965</td>\n      <td>0.000000</td>\n      <td>0.0</td>\n    </tr>\n    <tr>\n      <th>2793</th>\n      <td>10</td>\n      <td>0.120966</td>\n      <td>0.112011</td>\n      <td>0.000000</td>\n      <td>0.00000</td>\n      <td>0.061813</td>\n      <td>0.000000</td>\n      <td>0.00000</td>\n      <td>0.00000</td>\n      <td>0.090141</td>\n      <td>0.000000</td>\n      <td>0.000000</td>\n      <td>0.0</td>\n    </tr>\n    <tr>\n      <th>3214</th>\n      <td>10</td>\n      <td>0.120966</td>\n      <td>0.112011</td>\n      <td>0.094139</td>\n      <td>0.06376</td>\n      <td>0.061813</td>\n      <td>0.111164</td>\n      <td>0.09889</td>\n      <td>0.00000</td>\n      <td>0.090141</td>\n      <td>0.093965</td>\n      <td>0.000000</td>\n      <td>0.0</td>\n    </tr>\n    <tr>\n      <th>4701</th>\n      <td>10</td>\n      <td>0.000000</td>\n      <td>0.000000</td>\n      <td>0.000000</td>\n      <td>0.00000</td>\n      <td>0.000000</td>\n      <td>0.000000</td>\n      <td>0.00000</td>\n      <td>0.00000</td>\n      <td>0.000000</td>\n      <td>0.000000</td>\n      <td>0.000000</td>\n      <td>0.0</td>\n    </tr>\n    <tr>\n      <th>4822</th>\n      <td>10</td>\n      <td>0.000000</td>\n      <td>0.000000</td>\n      <td>0.000000</td>\n      <td>0.00000</td>\n      <td>0.000000</td>\n      <td>0.000000</td>\n      <td>0.00000</td>\n      <td>0.00000</td>\n      <td>0.000000</td>\n      <td>0.000000</td>\n      <td>0.056021</td>\n      <td>0.0</td>\n    </tr>\n  </tbody>\n</table>\n<p>5433 rows × 13 columns</p>\n</div>"
     },
     "execution_count": 16,
     "metadata": {},
     "output_type": "execute_result"
    }
   ],
   "source": [
    "train_data.insert(loc=12, column='特征加权和', value=0.0)\n",
    "train_data"
   ],
   "metadata": {
    "collapsed": false
   }
  },
  {
   "cell_type": "code",
   "execution_count": 17,
   "outputs": [],
   "source": [
    "train_data['特征加权和'] = train_data['特征加权和'].apply(lambda a : a*corr1[factor][title])"
   ],
   "metadata": {
    "collapsed": false
   }
  },
  {
   "cell_type": "code",
   "execution_count": 19,
   "outputs": [
    {
     "data": {
      "text/plain": "      是否遇到过网络问题      居民小区       办公室      商业街        地铁    手机没有信号  有信号无法拨通  \\\n用户id                                                                        \n26     0.120966  0.000000  0.094139  0.00000  0.061813  0.111164  0.09889   \n83     0.120966  0.112011  0.094139  0.06376  0.061813  0.111164  0.09889   \n89     0.120966  0.112011  0.094139  0.06376  0.061813  0.000000  0.00000   \n99     0.120966  0.112011  0.094139  0.00000  0.000000  0.111164  0.09889   \n102    0.120966  0.112011  0.000000  0.00000  0.000000  0.111164  0.00000   \n...         ...       ...       ...      ...       ...       ...      ...   \n2778   0.120966  0.112011  0.000000  0.00000  0.000000  0.000000  0.00000   \n2793   0.120966  0.112011  0.000000  0.00000  0.061813  0.000000  0.00000   \n3214   0.120966  0.112011  0.094139  0.06376  0.061813  0.111164  0.09889   \n4701   0.000000  0.000000  0.000000  0.00000  0.000000  0.000000  0.00000   \n4822   0.000000  0.000000  0.000000  0.00000  0.000000  0.000000  0.00000   \n\n      通话过程中突然中断  通话中有杂音、听不清、断断续续  通话过程中一方听不见   终端品牌_苹果  \n用户id                                                    \n26      0.00000         0.090141    0.093965  0.056021  \n83      0.09713         0.090141    0.093965  0.056021  \n89      0.09713         0.000000    0.093965  0.000000  \n99      0.00000         0.090141    0.000000  0.056021  \n102     0.09713         0.090141    0.093965  0.056021  \n...         ...              ...         ...       ...  \n2778    0.00000         0.000000    0.093965  0.000000  \n2793    0.00000         0.090141    0.000000  0.000000  \n3214    0.00000         0.090141    0.093965  0.000000  \n4701    0.00000         0.000000    0.000000  0.000000  \n4822    0.00000         0.000000    0.000000  0.056021  \n\n[5433 rows x 11 columns]",
      "text/html": "<div>\n<style scoped>\n    .dataframe tbody tr th:only-of-type {\n        vertical-align: middle;\n    }\n\n    .dataframe tbody tr th {\n        vertical-align: top;\n    }\n\n    .dataframe thead th {\n        text-align: right;\n    }\n</style>\n<table border=\"1\" class=\"dataframe\">\n  <thead>\n    <tr style=\"text-align: right;\">\n      <th></th>\n      <th>是否遇到过网络问题</th>\n      <th>居民小区</th>\n      <th>办公室</th>\n      <th>商业街</th>\n      <th>地铁</th>\n      <th>手机没有信号</th>\n      <th>有信号无法拨通</th>\n      <th>通话过程中突然中断</th>\n      <th>通话中有杂音、听不清、断断续续</th>\n      <th>通话过程中一方听不见</th>\n      <th>终端品牌_苹果</th>\n    </tr>\n    <tr>\n      <th>用户id</th>\n      <th></th>\n      <th></th>\n      <th></th>\n      <th></th>\n      <th></th>\n      <th></th>\n      <th></th>\n      <th></th>\n      <th></th>\n      <th></th>\n      <th></th>\n    </tr>\n  </thead>\n  <tbody>\n    <tr>\n      <th>26</th>\n      <td>0.120966</td>\n      <td>0.000000</td>\n      <td>0.094139</td>\n      <td>0.00000</td>\n      <td>0.061813</td>\n      <td>0.111164</td>\n      <td>0.09889</td>\n      <td>0.00000</td>\n      <td>0.090141</td>\n      <td>0.093965</td>\n      <td>0.056021</td>\n    </tr>\n    <tr>\n      <th>83</th>\n      <td>0.120966</td>\n      <td>0.112011</td>\n      <td>0.094139</td>\n      <td>0.06376</td>\n      <td>0.061813</td>\n      <td>0.111164</td>\n      <td>0.09889</td>\n      <td>0.09713</td>\n      <td>0.090141</td>\n      <td>0.093965</td>\n      <td>0.056021</td>\n    </tr>\n    <tr>\n      <th>89</th>\n      <td>0.120966</td>\n      <td>0.112011</td>\n      <td>0.094139</td>\n      <td>0.06376</td>\n      <td>0.061813</td>\n      <td>0.000000</td>\n      <td>0.00000</td>\n      <td>0.09713</td>\n      <td>0.000000</td>\n      <td>0.093965</td>\n      <td>0.000000</td>\n    </tr>\n    <tr>\n      <th>99</th>\n      <td>0.120966</td>\n      <td>0.112011</td>\n      <td>0.094139</td>\n      <td>0.00000</td>\n      <td>0.000000</td>\n      <td>0.111164</td>\n      <td>0.09889</td>\n      <td>0.00000</td>\n      <td>0.090141</td>\n      <td>0.000000</td>\n      <td>0.056021</td>\n    </tr>\n    <tr>\n      <th>102</th>\n      <td>0.120966</td>\n      <td>0.112011</td>\n      <td>0.000000</td>\n      <td>0.00000</td>\n      <td>0.000000</td>\n      <td>0.111164</td>\n      <td>0.00000</td>\n      <td>0.09713</td>\n      <td>0.090141</td>\n      <td>0.093965</td>\n      <td>0.056021</td>\n    </tr>\n    <tr>\n      <th>...</th>\n      <td>...</td>\n      <td>...</td>\n      <td>...</td>\n      <td>...</td>\n      <td>...</td>\n      <td>...</td>\n      <td>...</td>\n      <td>...</td>\n      <td>...</td>\n      <td>...</td>\n      <td>...</td>\n    </tr>\n    <tr>\n      <th>2778</th>\n      <td>0.120966</td>\n      <td>0.112011</td>\n      <td>0.000000</td>\n      <td>0.00000</td>\n      <td>0.000000</td>\n      <td>0.000000</td>\n      <td>0.00000</td>\n      <td>0.00000</td>\n      <td>0.000000</td>\n      <td>0.093965</td>\n      <td>0.000000</td>\n    </tr>\n    <tr>\n      <th>2793</th>\n      <td>0.120966</td>\n      <td>0.112011</td>\n      <td>0.000000</td>\n      <td>0.00000</td>\n      <td>0.061813</td>\n      <td>0.000000</td>\n      <td>0.00000</td>\n      <td>0.00000</td>\n      <td>0.090141</td>\n      <td>0.000000</td>\n      <td>0.000000</td>\n    </tr>\n    <tr>\n      <th>3214</th>\n      <td>0.120966</td>\n      <td>0.112011</td>\n      <td>0.094139</td>\n      <td>0.06376</td>\n      <td>0.061813</td>\n      <td>0.111164</td>\n      <td>0.09889</td>\n      <td>0.00000</td>\n      <td>0.090141</td>\n      <td>0.093965</td>\n      <td>0.000000</td>\n    </tr>\n    <tr>\n      <th>4701</th>\n      <td>0.000000</td>\n      <td>0.000000</td>\n      <td>0.000000</td>\n      <td>0.00000</td>\n      <td>0.000000</td>\n      <td>0.000000</td>\n      <td>0.00000</td>\n      <td>0.00000</td>\n      <td>0.000000</td>\n      <td>0.000000</td>\n      <td>0.000000</td>\n    </tr>\n    <tr>\n      <th>4822</th>\n      <td>0.000000</td>\n      <td>0.000000</td>\n      <td>0.000000</td>\n      <td>0.00000</td>\n      <td>0.000000</td>\n      <td>0.000000</td>\n      <td>0.00000</td>\n      <td>0.00000</td>\n      <td>0.000000</td>\n      <td>0.000000</td>\n      <td>0.056021</td>\n    </tr>\n  </tbody>\n</table>\n<p>5433 rows × 11 columns</p>\n</div>"
     },
     "execution_count": 19,
     "metadata": {},
     "output_type": "execute_result"
    }
   ],
   "source": [
    "train_data.iloc[:,1:12]"
   ],
   "metadata": {
    "collapsed": false
   }
  },
  {
   "cell_type": "code",
   "execution_count": 20,
   "outputs": [
    {
     "data": {
      "text/plain": "      网络覆盖与信号强度  是否遇到过网络问题      居民小区       办公室      商业街        地铁    手机没有信号  \\\n用户id                                                                          \n26            1   0.120966  0.000000  0.094139  0.00000  0.061813  0.111164   \n83            1   0.120966  0.112011  0.094139  0.06376  0.061813  0.111164   \n89            1   0.120966  0.112011  0.094139  0.06376  0.061813  0.000000   \n99            1   0.120966  0.112011  0.094139  0.00000  0.000000  0.111164   \n102           1   0.120966  0.112011  0.000000  0.00000  0.000000  0.111164   \n...         ...        ...       ...       ...      ...       ...       ...   \n2778         10   0.120966  0.112011  0.000000  0.00000  0.000000  0.000000   \n2793         10   0.120966  0.112011  0.000000  0.00000  0.061813  0.000000   \n3214         10   0.120966  0.112011  0.094139  0.06376  0.061813  0.111164   \n4701         10   0.000000  0.000000  0.000000  0.00000  0.000000  0.000000   \n4822         10   0.000000  0.000000  0.000000  0.00000  0.000000  0.000000   \n\n      有信号无法拨通  通话过程中突然中断  通话中有杂音、听不清、断断续续  通话过程中一方听不见   终端品牌_苹果     特征加权和  \n用户id                                                                       \n26    0.09889    0.00000         0.090141    0.093965  0.056021  0.727100  \n83    0.09889    0.09713         0.090141    0.093965  0.056021  1.000000  \n89    0.00000    0.09713         0.000000    0.093965  0.000000  0.643784  \n99    0.09889    0.00000         0.090141    0.000000  0.056021  0.683332  \n102   0.00000    0.09713         0.090141    0.093965  0.056021  0.681398  \n...       ...        ...              ...         ...       ...       ...  \n2778  0.00000    0.00000         0.000000    0.093965  0.000000  0.326943  \n2793  0.00000    0.00000         0.090141    0.000000  0.000000  0.384932  \n3214  0.09889    0.00000         0.090141    0.093965  0.000000  0.846849  \n4701  0.00000    0.00000         0.000000    0.000000  0.000000  0.000000  \n4822  0.00000    0.00000         0.000000    0.000000  0.056021  0.056021  \n\n[5433 rows x 13 columns]",
      "text/html": "<div>\n<style scoped>\n    .dataframe tbody tr th:only-of-type {\n        vertical-align: middle;\n    }\n\n    .dataframe tbody tr th {\n        vertical-align: top;\n    }\n\n    .dataframe thead th {\n        text-align: right;\n    }\n</style>\n<table border=\"1\" class=\"dataframe\">\n  <thead>\n    <tr style=\"text-align: right;\">\n      <th></th>\n      <th>网络覆盖与信号强度</th>\n      <th>是否遇到过网络问题</th>\n      <th>居民小区</th>\n      <th>办公室</th>\n      <th>商业街</th>\n      <th>地铁</th>\n      <th>手机没有信号</th>\n      <th>有信号无法拨通</th>\n      <th>通话过程中突然中断</th>\n      <th>通话中有杂音、听不清、断断续续</th>\n      <th>通话过程中一方听不见</th>\n      <th>终端品牌_苹果</th>\n      <th>特征加权和</th>\n    </tr>\n    <tr>\n      <th>用户id</th>\n      <th></th>\n      <th></th>\n      <th></th>\n      <th></th>\n      <th></th>\n      <th></th>\n      <th></th>\n      <th></th>\n      <th></th>\n      <th></th>\n      <th></th>\n      <th></th>\n      <th></th>\n    </tr>\n  </thead>\n  <tbody>\n    <tr>\n      <th>26</th>\n      <td>1</td>\n      <td>0.120966</td>\n      <td>0.000000</td>\n      <td>0.094139</td>\n      <td>0.00000</td>\n      <td>0.061813</td>\n      <td>0.111164</td>\n      <td>0.09889</td>\n      <td>0.00000</td>\n      <td>0.090141</td>\n      <td>0.093965</td>\n      <td>0.056021</td>\n      <td>0.727100</td>\n    </tr>\n    <tr>\n      <th>83</th>\n      <td>1</td>\n      <td>0.120966</td>\n      <td>0.112011</td>\n      <td>0.094139</td>\n      <td>0.06376</td>\n      <td>0.061813</td>\n      <td>0.111164</td>\n      <td>0.09889</td>\n      <td>0.09713</td>\n      <td>0.090141</td>\n      <td>0.093965</td>\n      <td>0.056021</td>\n      <td>1.000000</td>\n    </tr>\n    <tr>\n      <th>89</th>\n      <td>1</td>\n      <td>0.120966</td>\n      <td>0.112011</td>\n      <td>0.094139</td>\n      <td>0.06376</td>\n      <td>0.061813</td>\n      <td>0.000000</td>\n      <td>0.00000</td>\n      <td>0.09713</td>\n      <td>0.000000</td>\n      <td>0.093965</td>\n      <td>0.000000</td>\n      <td>0.643784</td>\n    </tr>\n    <tr>\n      <th>99</th>\n      <td>1</td>\n      <td>0.120966</td>\n      <td>0.112011</td>\n      <td>0.094139</td>\n      <td>0.00000</td>\n      <td>0.000000</td>\n      <td>0.111164</td>\n      <td>0.09889</td>\n      <td>0.00000</td>\n      <td>0.090141</td>\n      <td>0.000000</td>\n      <td>0.056021</td>\n      <td>0.683332</td>\n    </tr>\n    <tr>\n      <th>102</th>\n      <td>1</td>\n      <td>0.120966</td>\n      <td>0.112011</td>\n      <td>0.000000</td>\n      <td>0.00000</td>\n      <td>0.000000</td>\n      <td>0.111164</td>\n      <td>0.00000</td>\n      <td>0.09713</td>\n      <td>0.090141</td>\n      <td>0.093965</td>\n      <td>0.056021</td>\n      <td>0.681398</td>\n    </tr>\n    <tr>\n      <th>...</th>\n      <td>...</td>\n      <td>...</td>\n      <td>...</td>\n      <td>...</td>\n      <td>...</td>\n      <td>...</td>\n      <td>...</td>\n      <td>...</td>\n      <td>...</td>\n      <td>...</td>\n      <td>...</td>\n      <td>...</td>\n      <td>...</td>\n    </tr>\n    <tr>\n      <th>2778</th>\n      <td>10</td>\n      <td>0.120966</td>\n      <td>0.112011</td>\n      <td>0.000000</td>\n      <td>0.00000</td>\n      <td>0.000000</td>\n      <td>0.000000</td>\n      <td>0.00000</td>\n      <td>0.00000</td>\n      <td>0.000000</td>\n      <td>0.093965</td>\n      <td>0.000000</td>\n      <td>0.326943</td>\n    </tr>\n    <tr>\n      <th>2793</th>\n      <td>10</td>\n      <td>0.120966</td>\n      <td>0.112011</td>\n      <td>0.000000</td>\n      <td>0.00000</td>\n      <td>0.061813</td>\n      <td>0.000000</td>\n      <td>0.00000</td>\n      <td>0.00000</td>\n      <td>0.090141</td>\n      <td>0.000000</td>\n      <td>0.000000</td>\n      <td>0.384932</td>\n    </tr>\n    <tr>\n      <th>3214</th>\n      <td>10</td>\n      <td>0.120966</td>\n      <td>0.112011</td>\n      <td>0.094139</td>\n      <td>0.06376</td>\n      <td>0.061813</td>\n      <td>0.111164</td>\n      <td>0.09889</td>\n      <td>0.00000</td>\n      <td>0.090141</td>\n      <td>0.093965</td>\n      <td>0.000000</td>\n      <td>0.846849</td>\n    </tr>\n    <tr>\n      <th>4701</th>\n      <td>10</td>\n      <td>0.000000</td>\n      <td>0.000000</td>\n      <td>0.000000</td>\n      <td>0.00000</td>\n      <td>0.000000</td>\n      <td>0.000000</td>\n      <td>0.00000</td>\n      <td>0.00000</td>\n      <td>0.000000</td>\n      <td>0.000000</td>\n      <td>0.000000</td>\n      <td>0.000000</td>\n    </tr>\n    <tr>\n      <th>4822</th>\n      <td>10</td>\n      <td>0.000000</td>\n      <td>0.000000</td>\n      <td>0.000000</td>\n      <td>0.00000</td>\n      <td>0.000000</td>\n      <td>0.000000</td>\n      <td>0.00000</td>\n      <td>0.00000</td>\n      <td>0.000000</td>\n      <td>0.000000</td>\n      <td>0.056021</td>\n      <td>0.056021</td>\n    </tr>\n  </tbody>\n</table>\n<p>5433 rows × 13 columns</p>\n</div>"
     },
     "execution_count": 20,
     "metadata": {},
     "output_type": "execute_result"
    }
   ],
   "source": [
    "train_data['特征加权和'] = train_data.iloc[:,1:12].sum(axis=1)\n",
    "train_data"
   ],
   "metadata": {
    "collapsed": false
   }
  },
  {
   "cell_type": "code",
   "execution_count": 22,
   "outputs": [],
   "source": [
    "train_data.to_excel('output/error/语音'+factor+'.xlsx')"
   ],
   "metadata": {
    "collapsed": false
   }
  }
 ],
 "metadata": {
  "kernelspec": {
   "name": "newpytorch",
   "language": "python",
   "display_name": "newpytorch"
  },
  "language_info": {
   "codemirror_mode": {
    "name": "ipython",
    "version": 2
   },
   "file_extension": ".py",
   "mimetype": "text/x-python",
   "name": "python",
   "nbconvert_exporter": "python",
   "pygments_lexer": "ipython2",
   "version": "2.7.6"
  }
 },
 "nbformat": 4,
 "nbformat_minor": 0
}
